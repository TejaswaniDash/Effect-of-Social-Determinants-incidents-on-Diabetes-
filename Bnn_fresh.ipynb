{
 "cells": [
  {
   "cell_type": "code",
   "execution_count": null,
   "metadata": {
    "colab": {
     "base_uri": "https://localhost:8080/"
    },
    "id": "9Dyp39DiJ7wb",
    "outputId": "e9701bd4-6c76-4f6e-b864-c55dcdb018d2"
   },
   "outputs": [
    {
     "name": "stdout",
     "output_type": "stream",
     "text": [
      "Looking in indexes: https://pypi.org/simple, https://us-python.pkg.dev/colab-wheels/public/simple/\n",
      "Collecting pybbn\n",
      "  Downloading pybbn-3.2.1.tar.gz (35 kB)\n",
      "Requirement already satisfied: numpy in /usr/local/lib/python3.7/dist-packages (from pybbn) (1.21.6)\n",
      "Requirement already satisfied: scipy in /usr/local/lib/python3.7/dist-packages (from pybbn) (1.7.3)\n",
      "Requirement already satisfied: networkx in /usr/local/lib/python3.7/dist-packages (from pybbn) (2.6.3)\n",
      "Requirement already satisfied: pandas in /usr/local/lib/python3.7/dist-packages (from pybbn) (1.3.5)\n",
      "Requirement already satisfied: python-dateutil>=2.7.3 in /usr/local/lib/python3.7/dist-packages (from pandas->pybbn) (2.8.2)\n",
      "Requirement already satisfied: pytz>=2017.3 in /usr/local/lib/python3.7/dist-packages (from pandas->pybbn) (2022.2)\n",
      "Requirement already satisfied: six>=1.5 in /usr/local/lib/python3.7/dist-packages (from python-dateutil>=2.7.3->pandas->pybbn) (1.15.0)\n",
      "Building wheels for collected packages: pybbn\n",
      "  Building wheel for pybbn (setup.py) ... \u001b[?25l\u001b[?25hdone\n",
      "  Created wheel for pybbn: filename=pybbn-3.2.1-py3-none-any.whl size=39726 sha256=89eb39676b63029f9b218e1862d3aee8ca961420b474b1567bb6b524ad8bf392\n",
      "  Stored in directory: /root/.cache/pip/wheels/a8/64/55/b52530d41fe7c9ae501ddd7c06f3122ceb5f15921680f0371b\n",
      "Successfully built pybbn\n",
      "Installing collected packages: pybbn\n",
      "Successfully installed pybbn-3.2.1\n",
      "Looking in indexes: https://pypi.org/simple, https://us-python.pkg.dev/colab-wheels/public/simple/\n",
      "Collecting lassobbn==1.0.0\n",
      "  Downloading lassobbn-1.0.0.tar.gz (8.4 kB)\n",
      "Building wheels for collected packages: lassobbn\n",
      "  Building wheel for lassobbn (setup.py) ... \u001b[?25l\u001b[?25hdone\n",
      "  Created wheel for lassobbn: filename=lassobbn-1.0.0-py3-none-any.whl size=7303 sha256=c3789b3215df5127040bcd76c489c8501bcde9a5aec4afa916f36c97dddabf4d\n",
      "  Stored in directory: /root/.cache/pip/wheels/57/bb/0c/b0ecb4d85cb1e35d8f8f0b6cadc53b5e5a4205241032eed587\n",
      "Successfully built lassobbn\n",
      "Installing collected packages: lassobbn\n",
      "Successfully installed lassobbn-1.0.0\n"
     ]
    }
   ],
   "source": [
    "!pip install pybbn\n",
    "!pip install lassobbn==1.0.0"
   ]
  },
  {
   "cell_type": "code",
   "execution_count": null,
   "metadata": {
    "id": "43jNy83yMJMv"
   },
   "outputs": [],
   "source": [
    "import pandas as pd\n",
    "\n",
    "ordering_data = pd.read_csv('Rank_Score_Data_Sorted_Asc.csv')\n",
    "order_list = list(ordering_data['Unnamed: 0'])"
   ]
  },
  {
   "cell_type": "code",
   "execution_count": null,
   "metadata": {
    "colab": {
     "base_uri": "https://localhost:8080/"
    },
    "id": "WlQGMiE-Mjd2",
    "outputId": "2b4b7741-0c47-4bf3-b42b-e52cd909176c"
   },
   "outputs": [
    {
     "data": {
      "text/plain": [
       "32"
      ]
     },
     "execution_count": 3,
     "metadata": {},
     "output_type": "execute_result"
    }
   ],
   "source": [
    "final_list = ['TestPositive',*order_list,'GenderFemale','Age30orMore']\n",
    "len(final_list)"
   ]
  },
  {
   "cell_type": "code",
   "execution_count": null,
   "metadata": {
    "colab": {
     "base_uri": "https://localhost:8080/"
    },
    "id": "Qkwe0k-oMq4Z",
    "outputId": "892acc16-9925-4ec4-e3b0-2ad15ee891fa"
   },
   "outputs": [
    {
     "data": {
      "text/plain": [
       "Index(['TestPositive', 'IgnoreRespSymp', 'IgnoreGastroSymp', 'IgnoreNeuroSymp',\n",
       "       'IgnoreInflamSymp', 'LossSmell', 'Fatigue', 'Difficultybreathing',\n",
       "       'SlurredSpeech', 'Diarrhea', 'LossAppetite', 'Bluish', 'MuscleAches',\n",
       "       'Confusion', 'Pinkeye', 'UnexplainedRash', 'Shortnessofbreath',\n",
       "       'JointPain', 'Sorethroat', 'Shivering', 'AbdominalPain', 'ExcessSweat',\n",
       "       'LossBalance', 'RedRash', 'Numbness', 'Headaches', 'Cough', 'Chills',\n",
       "       'LossTaste', 'Wheezing', 'Fever', 'Vomiting', 'Runnynose', 'Chestpain',\n",
       "       'RaceWhite', 'GenderFemale', 'Age30orMore', 'LossSmell_first',\n",
       "       'Fatigue_first', 'Difficultybreathing_first', 'SlurredSpeech_first',\n",
       "       'Diarrhea_first', 'LossAppetite_first', 'Bluish_first',\n",
       "       'MuscleAches_first', 'Confusion_first', 'Pinkeye_first',\n",
       "       'UnexplainedRash_first', 'Shortnessofbreath_first', 'JointPain_first',\n",
       "       'Sorethroat_first', 'Shivering_first', 'AbdominalPain_first',\n",
       "       'ExcessSweat_first', 'LossBalance_first', 'RedRash_first',\n",
       "       'Numbness_first', 'Headaches_first', 'Cough_first', 'Chills_first',\n",
       "       'LossTaste_first', 'Wheezing_first', 'Fever_first', 'Vomiting_first',\n",
       "       'Runnynose_first', 'Chestpain_first'],\n",
       "      dtype='object')"
      ]
     },
     "execution_count": 5,
     "metadata": {},
     "output_type": "execute_result"
    }
   ],
   "source": [
    "data = pd.read_csv('data.csv')\n",
    "data.columns"
   ]
  },
  {
   "cell_type": "code",
   "execution_count": null,
   "metadata": {
    "colab": {
     "base_uri": "https://localhost:8080/",
     "height": 300
    },
    "id": "dHo7aVKAM8Jk",
    "outputId": "70e82303-dc42-448f-d851-3789421e9faf"
   },
   "outputs": [
    {
     "data": {
      "text/html": [
       "\n",
       "  <div id=\"df-c447c5be-6ab5-4252-8248-3b4f3f95b329\">\n",
       "    <div class=\"colab-df-container\">\n",
       "      <div>\n",
       "<style scoped>\n",
       "    .dataframe tbody tr th:only-of-type {\n",
       "        vertical-align: middle;\n",
       "    }\n",
       "\n",
       "    .dataframe tbody tr th {\n",
       "        vertical-align: top;\n",
       "    }\n",
       "\n",
       "    .dataframe thead th {\n",
       "        text-align: right;\n",
       "    }\n",
       "</style>\n",
       "<table border=\"1\" class=\"dataframe\">\n",
       "  <thead>\n",
       "    <tr style=\"text-align: right;\">\n",
       "      <th></th>\n",
       "      <th>TestPositive</th>\n",
       "      <th>Numbness</th>\n",
       "      <th>UnexplainedRash</th>\n",
       "      <th>Pinkeye</th>\n",
       "      <th>SlurredSpeech</th>\n",
       "      <th>LossSmell</th>\n",
       "      <th>LossBalance</th>\n",
       "      <th>Shivering</th>\n",
       "      <th>Wheezing</th>\n",
       "      <th>Fever</th>\n",
       "      <th>...</th>\n",
       "      <th>Fatigue</th>\n",
       "      <th>Runnynose</th>\n",
       "      <th>Sorethroat</th>\n",
       "      <th>Difficultybreathing</th>\n",
       "      <th>Cough</th>\n",
       "      <th>Chills</th>\n",
       "      <th>ExcessSweat</th>\n",
       "      <th>Bluish</th>\n",
       "      <th>GenderFemale</th>\n",
       "      <th>Age30orMore</th>\n",
       "    </tr>\n",
       "  </thead>\n",
       "  <tbody>\n",
       "    <tr>\n",
       "      <th>0</th>\n",
       "      <td>0</td>\n",
       "      <td>0</td>\n",
       "      <td>0</td>\n",
       "      <td>0</td>\n",
       "      <td>0</td>\n",
       "      <td>0</td>\n",
       "      <td>0</td>\n",
       "      <td>0</td>\n",
       "      <td>0</td>\n",
       "      <td>0</td>\n",
       "      <td>...</td>\n",
       "      <td>0</td>\n",
       "      <td>0</td>\n",
       "      <td>0</td>\n",
       "      <td>0</td>\n",
       "      <td>0</td>\n",
       "      <td>0</td>\n",
       "      <td>0</td>\n",
       "      <td>0</td>\n",
       "      <td>1</td>\n",
       "      <td>0</td>\n",
       "    </tr>\n",
       "    <tr>\n",
       "      <th>1</th>\n",
       "      <td>0</td>\n",
       "      <td>0</td>\n",
       "      <td>0</td>\n",
       "      <td>0</td>\n",
       "      <td>0</td>\n",
       "      <td>0</td>\n",
       "      <td>0</td>\n",
       "      <td>0</td>\n",
       "      <td>0</td>\n",
       "      <td>0</td>\n",
       "      <td>...</td>\n",
       "      <td>0</td>\n",
       "      <td>0</td>\n",
       "      <td>0</td>\n",
       "      <td>0</td>\n",
       "      <td>0</td>\n",
       "      <td>0</td>\n",
       "      <td>0</td>\n",
       "      <td>0</td>\n",
       "      <td>1</td>\n",
       "      <td>0</td>\n",
       "    </tr>\n",
       "    <tr>\n",
       "      <th>2</th>\n",
       "      <td>1</td>\n",
       "      <td>0</td>\n",
       "      <td>0</td>\n",
       "      <td>0</td>\n",
       "      <td>0</td>\n",
       "      <td>0</td>\n",
       "      <td>0</td>\n",
       "      <td>0</td>\n",
       "      <td>0</td>\n",
       "      <td>0</td>\n",
       "      <td>...</td>\n",
       "      <td>1</td>\n",
       "      <td>0</td>\n",
       "      <td>1</td>\n",
       "      <td>0</td>\n",
       "      <td>0</td>\n",
       "      <td>0</td>\n",
       "      <td>0</td>\n",
       "      <td>0</td>\n",
       "      <td>1</td>\n",
       "      <td>0</td>\n",
       "    </tr>\n",
       "    <tr>\n",
       "      <th>3</th>\n",
       "      <td>0</td>\n",
       "      <td>0</td>\n",
       "      <td>0</td>\n",
       "      <td>0</td>\n",
       "      <td>0</td>\n",
       "      <td>0</td>\n",
       "      <td>0</td>\n",
       "      <td>0</td>\n",
       "      <td>0</td>\n",
       "      <td>0</td>\n",
       "      <td>...</td>\n",
       "      <td>0</td>\n",
       "      <td>1</td>\n",
       "      <td>1</td>\n",
       "      <td>0</td>\n",
       "      <td>0</td>\n",
       "      <td>0</td>\n",
       "      <td>0</td>\n",
       "      <td>0</td>\n",
       "      <td>1</td>\n",
       "      <td>0</td>\n",
       "    </tr>\n",
       "    <tr>\n",
       "      <th>4</th>\n",
       "      <td>0</td>\n",
       "      <td>0</td>\n",
       "      <td>0</td>\n",
       "      <td>0</td>\n",
       "      <td>0</td>\n",
       "      <td>0</td>\n",
       "      <td>0</td>\n",
       "      <td>0</td>\n",
       "      <td>0</td>\n",
       "      <td>0</td>\n",
       "      <td>...</td>\n",
       "      <td>0</td>\n",
       "      <td>0</td>\n",
       "      <td>1</td>\n",
       "      <td>0</td>\n",
       "      <td>0</td>\n",
       "      <td>0</td>\n",
       "      <td>0</td>\n",
       "      <td>0</td>\n",
       "      <td>0</td>\n",
       "      <td>0</td>\n",
       "    </tr>\n",
       "  </tbody>\n",
       "</table>\n",
       "<p>5 rows × 32 columns</p>\n",
       "</div>\n",
       "      <button class=\"colab-df-convert\" onclick=\"convertToInteractive('df-c447c5be-6ab5-4252-8248-3b4f3f95b329')\"\n",
       "              title=\"Convert this dataframe to an interactive table.\"\n",
       "              style=\"display:none;\">\n",
       "        \n",
       "  <svg xmlns=\"http://www.w3.org/2000/svg\" height=\"24px\"viewBox=\"0 0 24 24\"\n",
       "       width=\"24px\">\n",
       "    <path d=\"M0 0h24v24H0V0z\" fill=\"none\"/>\n",
       "    <path d=\"M18.56 5.44l.94 2.06.94-2.06 2.06-.94-2.06-.94-.94-2.06-.94 2.06-2.06.94zm-11 1L8.5 8.5l.94-2.06 2.06-.94-2.06-.94L8.5 2.5l-.94 2.06-2.06.94zm10 10l.94 2.06.94-2.06 2.06-.94-2.06-.94-.94-2.06-.94 2.06-2.06.94z\"/><path d=\"M17.41 7.96l-1.37-1.37c-.4-.4-.92-.59-1.43-.59-.52 0-1.04.2-1.43.59L10.3 9.45l-7.72 7.72c-.78.78-.78 2.05 0 2.83L4 21.41c.39.39.9.59 1.41.59.51 0 1.02-.2 1.41-.59l7.78-7.78 2.81-2.81c.8-.78.8-2.07 0-2.86zM5.41 20L4 18.59l7.72-7.72 1.47 1.35L5.41 20z\"/>\n",
       "  </svg>\n",
       "      </button>\n",
       "      \n",
       "  <style>\n",
       "    .colab-df-container {\n",
       "      display:flex;\n",
       "      flex-wrap:wrap;\n",
       "      gap: 12px;\n",
       "    }\n",
       "\n",
       "    .colab-df-convert {\n",
       "      background-color: #E8F0FE;\n",
       "      border: none;\n",
       "      border-radius: 50%;\n",
       "      cursor: pointer;\n",
       "      display: none;\n",
       "      fill: #1967D2;\n",
       "      height: 32px;\n",
       "      padding: 0 0 0 0;\n",
       "      width: 32px;\n",
       "    }\n",
       "\n",
       "    .colab-df-convert:hover {\n",
       "      background-color: #E2EBFA;\n",
       "      box-shadow: 0px 1px 2px rgba(60, 64, 67, 0.3), 0px 1px 3px 1px rgba(60, 64, 67, 0.15);\n",
       "      fill: #174EA6;\n",
       "    }\n",
       "\n",
       "    [theme=dark] .colab-df-convert {\n",
       "      background-color: #3B4455;\n",
       "      fill: #D2E3FC;\n",
       "    }\n",
       "\n",
       "    [theme=dark] .colab-df-convert:hover {\n",
       "      background-color: #434B5C;\n",
       "      box-shadow: 0px 1px 3px 1px rgba(0, 0, 0, 0.15);\n",
       "      filter: drop-shadow(0px 1px 2px rgba(0, 0, 0, 0.3));\n",
       "      fill: #FFFFFF;\n",
       "    }\n",
       "  </style>\n",
       "\n",
       "      <script>\n",
       "        const buttonEl =\n",
       "          document.querySelector('#df-c447c5be-6ab5-4252-8248-3b4f3f95b329 button.colab-df-convert');\n",
       "        buttonEl.style.display =\n",
       "          google.colab.kernel.accessAllowed ? 'block' : 'none';\n",
       "\n",
       "        async function convertToInteractive(key) {\n",
       "          const element = document.querySelector('#df-c447c5be-6ab5-4252-8248-3b4f3f95b329');\n",
       "          const dataTable =\n",
       "            await google.colab.kernel.invokeFunction('convertToInteractive',\n",
       "                                                     [key], {});\n",
       "          if (!dataTable) return;\n",
       "\n",
       "          const docLinkHtml = 'Like what you see? Visit the ' +\n",
       "            '<a target=\"_blank\" href=https://colab.research.google.com/notebooks/data_table.ipynb>data table notebook</a>'\n",
       "            + ' to learn more about interactive tables.';\n",
       "          element.innerHTML = '';\n",
       "          dataTable['output_type'] = 'display_data';\n",
       "          await google.colab.output.renderOutput(dataTable, element);\n",
       "          const docLink = document.createElement('div');\n",
       "          docLink.innerHTML = docLinkHtml;\n",
       "          element.appendChild(docLink);\n",
       "        }\n",
       "      </script>\n",
       "    </div>\n",
       "  </div>\n",
       "  "
      ],
      "text/plain": [
       "   TestPositive  Numbness  UnexplainedRash  Pinkeye  SlurredSpeech  LossSmell  \\\n",
       "0             0         0                0        0              0          0   \n",
       "1             0         0                0        0              0          0   \n",
       "2             1         0                0        0              0          0   \n",
       "3             0         0                0        0              0          0   \n",
       "4             0         0                0        0              0          0   \n",
       "\n",
       "   LossBalance  Shivering  Wheezing  Fever  ...  Fatigue  Runnynose  \\\n",
       "0            0          0         0      0  ...        0          0   \n",
       "1            0          0         0      0  ...        0          0   \n",
       "2            0          0         0      0  ...        1          0   \n",
       "3            0          0         0      0  ...        0          1   \n",
       "4            0          0         0      0  ...        0          0   \n",
       "\n",
       "   Sorethroat  Difficultybreathing  Cough  Chills  ExcessSweat  Bluish  \\\n",
       "0           0                    0      0       0            0       0   \n",
       "1           0                    0      0       0            0       0   \n",
       "2           1                    0      0       0            0       0   \n",
       "3           1                    0      0       0            0       0   \n",
       "4           1                    0      0       0            0       0   \n",
       "\n",
       "   GenderFemale  Age30orMore  \n",
       "0             1            0  \n",
       "1             1            0  \n",
       "2             1            0  \n",
       "3             1            0  \n",
       "4             0            0  \n",
       "\n",
       "[5 rows x 32 columns]"
      ]
     },
     "execution_count": 6,
     "metadata": {},
     "output_type": "execute_result"
    }
   ],
   "source": [
    "new_data = data[final_list]\n",
    "\n",
    "new_data.head()"
   ]
  },
  {
   "cell_type": "code",
   "execution_count": null,
   "metadata": {
    "id": "Fv2LEzQFNBU3"
   },
   "outputs": [],
   "source": [
    "new_data.to_csv('data-binary.csv')"
   ]
  },
  {
   "cell_type": "code",
   "execution_count": null,
   "metadata": {
    "colab": {
     "base_uri": "https://localhost:8080/"
    },
    "id": "MYBRvDH2NJTw",
    "outputId": "06da1e5f-0e67-4986-8941-7f48b754fe7c"
   },
   "outputs": [
    {
     "name": "stdout",
     "output_type": "stream",
     "text": [
      "1 / 29 | Bluish\n"
     ]
    }
   ],
   "source": [
    "from lassobbn.learn import learn_parameters, learn_structure, to_bbn, to_join_tree, posteriors_to_df\n",
    "\n",
    "\n",
    "parents = learn_structure('data-binary.csv', 'rank_ordering.json', n_way=2, ignore_neg_gt=-0.01, ignore_pos_lt=0.05)"
   ]
  },
  {
   "cell_type": "code",
   "execution_count": null,
   "metadata": {
    "colab": {
     "base_uri": "https://localhost:8080/"
    },
    "id": "aN32BQLmNhUG",
    "outputId": "95f90c45-d02f-406a-cf07-0f8a53307949"
   },
   "outputs": [
    {
     "name": "stdout",
     "output_type": "stream",
     "text": [
      "parents\n",
      "{}\n",
      "---------------\n"
     ]
    }
   ],
   "source": [
    "print('parents')\n",
    "print(parents)\n",
    "print('-' * 15)\n",
    "\n",
    "import json\n",
    "\n",
    "with open(\"parents2.json\", \"w\") as outfile:\n",
    "    json.dump(parents, outfile)"
   ]
  },
  {
   "cell_type": "code",
   "execution_count": null,
   "metadata": {
    "id": "y0yg0XPUNjAn"
   },
   "outputs": [],
   "source": [
    "d, g, p = learn_parameters('./data-binary.csv', parents)"
   ]
  },
  {
   "cell_type": "code",
   "execution_count": null,
   "metadata": {
    "colab": {
     "base_uri": "https://localhost:8080/"
    },
    "id": "AlmRwyDRNpHz",
    "outputId": "f0c3247a-7332-4722-848e-fd9409423b5e"
   },
   "outputs": [
    {
     "name": "stdout",
     "output_type": "stream",
     "text": [
      "domains\n",
      "{}\n",
      "---------------\n"
     ]
    }
   ],
   "source": [
    "print('domains')\n",
    "print(d)\n",
    "print('-' * 15)"
   ]
  },
  {
   "cell_type": "code",
   "execution_count": null,
   "metadata": {
    "id": "OzP6fm9sNxfE"
   },
   "outputs": [],
   "source": [
    "# print(parents['TestPositive'])\n",
    "# print(p['TestPositive'])\n",
    "with open(\"probs2.json\", \"w\") as outfile:\n",
    "    json.dump(p, outfile)"
   ]
  },
  {
   "cell_type": "code",
   "execution_count": null,
   "metadata": {
    "colab": {
     "base_uri": "https://localhost:8080/"
    },
    "id": "jy_Ynz0uNyMU",
    "outputId": "b6d4e329-65a3-4bfe-bc16-3333eab25db5"
   },
   "outputs": [
    {
     "name": "stdout",
     "output_type": "stream",
     "text": [
      "structure\n",
      "---------------\n"
     ]
    }
   ],
   "source": [
    "print('structure')\n",
    "for pa, ch in g.edges():\n",
    "    print(f'{pa} -> {ch}')\n",
    "print('-' * 15)"
   ]
  },
  {
   "cell_type": "code",
   "execution_count": null,
   "metadata": {
    "colab": {
     "base_uri": "https://localhost:8080/"
    },
    "id": "L7YrAYwON2I4",
    "outputId": "ece5dc33-d042-4762-e3bc-e7bdb14bfd0e"
   },
   "outputs": [
    {
     "name": "stdout",
     "output_type": "stream",
     "text": [
      "parameters\n",
      "---------------\n"
     ]
    }
   ],
   "source": [
    "print('parameters')\n",
    "for k, arr in p.items():\n",
    "    probs = [f'{v:.2f}' for v in arr]\n",
    "    probs = ', '.join(probs)\n",
    "    print(f'{k}: [{probs}]')\n",
    "print('-' * 15)"
   ]
  },
  {
   "cell_type": "code",
   "execution_count": null,
   "metadata": {
    "colab": {
     "base_uri": "https://localhost:8080/"
    },
    "id": "IJTQJkGrN7Za",
    "outputId": "47ee1612-fd38-4569-9ed1-e8ca24957686"
   },
   "outputs": [
    {
     "name": "stdout",
     "output_type": "stream",
     "text": [
      "\n",
      "\n"
     ]
    }
   ],
   "source": [
    "my_bbn = to_bbn(d, g, p)\n",
    "my_bbn.to_json(my_bbn,'./get_json2.json')\n",
    "print(my_bbn)"
   ]
  },
  {
   "cell_type": "code",
   "execution_count": null,
   "metadata": {
    "id": "sdof2SJXN-XM"
   },
   "outputs": [],
   "source": [
    "jt = to_join_tree(my_bbn)"
   ]
  }
 ],
 "metadata": {
  "colab": {
   "collapsed_sections": [],
   "provenance": []
  },
  "kernelspec": {
   "display_name": "Python 3",
   "language": "python",
   "name": "python3"
  },
  "language_info": {
   "codemirror_mode": {
    "name": "ipython",
    "version": 3
   },
   "file_extension": ".py",
   "mimetype": "text/x-python",
   "name": "python",
   "nbconvert_exporter": "python",
   "pygments_lexer": "ipython3",
   "version": "3.8.5"
  }
 },
 "nbformat": 4,
 "nbformat_minor": 1
}
