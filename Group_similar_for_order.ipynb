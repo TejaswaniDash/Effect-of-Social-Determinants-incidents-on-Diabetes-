{
 "cells": [
  {
   "cell_type": "code",
   "execution_count": null,
   "metadata": {
    "id": "-hUL6XhJudCz"
   },
   "outputs": [],
   "source": [
    "import pandas as pd\n"
   ]
  },
  {
   "cell_type": "code",
   "execution_count": null,
   "metadata": {
    "colab": {
     "base_uri": "https://localhost:8080/",
     "height": 206
    },
    "id": "KJb_krvevTPD",
    "outputId": "0cd154c3-0807-45af-915f-6f485776070f"
   },
   "outputs": [
    {
     "data": {
      "text/html": [
       "\n",
       "  <div id=\"df-68d88cf8-2387-47d2-989f-a82bde1c36b7\">\n",
       "    <div class=\"colab-df-container\">\n",
       "      <div>\n",
       "<style scoped>\n",
       "    .dataframe tbody tr th:only-of-type {\n",
       "        vertical-align: middle;\n",
       "    }\n",
       "\n",
       "    .dataframe tbody tr th {\n",
       "        vertical-align: top;\n",
       "    }\n",
       "\n",
       "    .dataframe thead th {\n",
       "        text-align: right;\n",
       "    }\n",
       "</style>\n",
       "<table border=\"1\" class=\"dataframe\">\n",
       "  <thead>\n",
       "    <tr style=\"text-align: right;\">\n",
       "      <th></th>\n",
       "      <th>Unnamed: 0</th>\n",
       "      <th>Rank Score</th>\n",
       "    </tr>\n",
       "  </thead>\n",
       "  <tbody>\n",
       "    <tr>\n",
       "      <th>0</th>\n",
       "      <td>Bluish</td>\n",
       "      <td>0.5</td>\n",
       "    </tr>\n",
       "    <tr>\n",
       "      <th>1</th>\n",
       "      <td>ExcessSweat</td>\n",
       "      <td>0.5</td>\n",
       "    </tr>\n",
       "    <tr>\n",
       "      <th>2</th>\n",
       "      <td>Chills</td>\n",
       "      <td>0.5</td>\n",
       "    </tr>\n",
       "    <tr>\n",
       "      <th>3</th>\n",
       "      <td>Cough</td>\n",
       "      <td>0.5</td>\n",
       "    </tr>\n",
       "    <tr>\n",
       "      <th>4</th>\n",
       "      <td>Difficultybreathing</td>\n",
       "      <td>0.5</td>\n",
       "    </tr>\n",
       "  </tbody>\n",
       "</table>\n",
       "</div>\n",
       "      <button class=\"colab-df-convert\" onclick=\"convertToInteractive('df-68d88cf8-2387-47d2-989f-a82bde1c36b7')\"\n",
       "              title=\"Convert this dataframe to an interactive table.\"\n",
       "              style=\"display:none;\">\n",
       "        \n",
       "  <svg xmlns=\"http://www.w3.org/2000/svg\" height=\"24px\"viewBox=\"0 0 24 24\"\n",
       "       width=\"24px\">\n",
       "    <path d=\"M0 0h24v24H0V0z\" fill=\"none\"/>\n",
       "    <path d=\"M18.56 5.44l.94 2.06.94-2.06 2.06-.94-2.06-.94-.94-2.06-.94 2.06-2.06.94zm-11 1L8.5 8.5l.94-2.06 2.06-.94-2.06-.94L8.5 2.5l-.94 2.06-2.06.94zm10 10l.94 2.06.94-2.06 2.06-.94-2.06-.94-.94-2.06-.94 2.06-2.06.94z\"/><path d=\"M17.41 7.96l-1.37-1.37c-.4-.4-.92-.59-1.43-.59-.52 0-1.04.2-1.43.59L10.3 9.45l-7.72 7.72c-.78.78-.78 2.05 0 2.83L4 21.41c.39.39.9.59 1.41.59.51 0 1.02-.2 1.41-.59l7.78-7.78 2.81-2.81c.8-.78.8-2.07 0-2.86zM5.41 20L4 18.59l7.72-7.72 1.47 1.35L5.41 20z\"/>\n",
       "  </svg>\n",
       "      </button>\n",
       "      \n",
       "  <style>\n",
       "    .colab-df-container {\n",
       "      display:flex;\n",
       "      flex-wrap:wrap;\n",
       "      gap: 12px;\n",
       "    }\n",
       "\n",
       "    .colab-df-convert {\n",
       "      background-color: #E8F0FE;\n",
       "      border: none;\n",
       "      border-radius: 50%;\n",
       "      cursor: pointer;\n",
       "      display: none;\n",
       "      fill: #1967D2;\n",
       "      height: 32px;\n",
       "      padding: 0 0 0 0;\n",
       "      width: 32px;\n",
       "    }\n",
       "\n",
       "    .colab-df-convert:hover {\n",
       "      background-color: #E2EBFA;\n",
       "      box-shadow: 0px 1px 2px rgba(60, 64, 67, 0.3), 0px 1px 3px 1px rgba(60, 64, 67, 0.15);\n",
       "      fill: #174EA6;\n",
       "    }\n",
       "\n",
       "    [theme=dark] .colab-df-convert {\n",
       "      background-color: #3B4455;\n",
       "      fill: #D2E3FC;\n",
       "    }\n",
       "\n",
       "    [theme=dark] .colab-df-convert:hover {\n",
       "      background-color: #434B5C;\n",
       "      box-shadow: 0px 1px 3px 1px rgba(0, 0, 0, 0.15);\n",
       "      filter: drop-shadow(0px 1px 2px rgba(0, 0, 0, 0.3));\n",
       "      fill: #FFFFFF;\n",
       "    }\n",
       "  </style>\n",
       "\n",
       "      <script>\n",
       "        const buttonEl =\n",
       "          document.querySelector('#df-68d88cf8-2387-47d2-989f-a82bde1c36b7 button.colab-df-convert');\n",
       "        buttonEl.style.display =\n",
       "          google.colab.kernel.accessAllowed ? 'block' : 'none';\n",
       "\n",
       "        async function convertToInteractive(key) {\n",
       "          const element = document.querySelector('#df-68d88cf8-2387-47d2-989f-a82bde1c36b7');\n",
       "          const dataTable =\n",
       "            await google.colab.kernel.invokeFunction('convertToInteractive',\n",
       "                                                     [key], {});\n",
       "          if (!dataTable) return;\n",
       "\n",
       "          const docLinkHtml = 'Like what you see? Visit the ' +\n",
       "            '<a target=\"_blank\" href=https://colab.research.google.com/notebooks/data_table.ipynb>data table notebook</a>'\n",
       "            + ' to learn more about interactive tables.';\n",
       "          element.innerHTML = '';\n",
       "          dataTable['output_type'] = 'display_data';\n",
       "          await google.colab.output.renderOutput(dataTable, element);\n",
       "          const docLink = document.createElement('div');\n",
       "          docLink.innerHTML = docLinkHtml;\n",
       "          element.appendChild(docLink);\n",
       "        }\n",
       "      </script>\n",
       "    </div>\n",
       "  </div>\n",
       "  "
      ],
      "text/plain": [
       "            Unnamed: 0  Rank Score\n",
       "0               Bluish         0.5\n",
       "1          ExcessSweat         0.5\n",
       "2               Chills         0.5\n",
       "3                Cough         0.5\n",
       "4  Difficultybreathing         0.5"
      ]
     },
     "execution_count": 8,
     "metadata": {},
     "output_type": "execute_result"
    }
   ],
   "source": [
    "datapd = pd.read_csv('Rank_Score_Data_Sorted_Asc.csv')\n",
    "\n",
    "datapd.head()"
   ]
  },
  {
   "cell_type": "code",
   "execution_count": null,
   "metadata": {
    "colab": {
     "base_uri": "https://localhost:8080/"
    },
    "id": "vrzuf_VYvgMz",
    "outputId": "629ae880-6d4d-4e4d-f059-d045c2a25ff2"
   },
   "outputs": [
    {
     "name": "stdout",
     "output_type": "stream",
     "text": [
      "{'ordering': [['Bluish', 'ExcessSweat', 'Chills', 'Cough', 'Difficultybreathing', 'Sorethroat', 'Runnynose', 'Fatigue', 'Headaches', 'Diarrhea', 'Chestpain', 'MuscleAches', 'LossAppetite', 'Vomiting', 'RedRash', 'AbdominalPain', 'JointPain', 'Shortnessofbreath', 'LossTaste', 'Confusion', 'Fever', 'Wheezing', 'Shivering', 'LossBalance', 'LossSmell', 'SlurredSpeech', 'Pinkeye', 'UnexplainedRash', 'Numbness']]}\n"
     ]
    }
   ],
   "source": [
    "groups = datapd.groupby('Rank Score')\n",
    "\n",
    "ordering = {}\n",
    "\n",
    "ordering['ordering'] = []\n",
    "\n",
    "for name,group in groups:\n",
    "  one_list = []\n",
    "  for i in range(len(group)):\n",
    "    one_list.append(group.iloc[i,0])\n",
    "  ordering['ordering'].append(one_list)\n",
    "\n",
    "\n",
    "print(ordering)"
   ]
  },
  {
   "cell_type": "code",
   "execution_count": null,
   "metadata": {
    "id": "BEJ6bLdVvunN"
   },
   "outputs": [],
   "source": [
    "import json\n",
    "\n",
    "with open(\"rank_low_to_high.json\", \"w\") as outfile:\n",
    "    json.dump(ordering, outfile)"
   ]
  },
  {
   "cell_type": "code",
   "execution_count": null,
   "metadata": {
    "id": "-SpicKwpxG7n"
   },
   "outputs": [],
   "source": [
    "data = ordering"
   ]
  },
  {
   "cell_type": "code",
   "execution_count": null,
   "metadata": {
    "colab": {
     "base_uri": "https://localhost:8080/"
    },
    "id": "4-ezLWKewwFo",
    "outputId": "5413e871-c33c-47ef-ab8f-31996310680a"
   },
   "outputs": [
    {
     "name": "stdout",
     "output_type": "stream",
     "text": [
      "<list_reverseiterator object at 0x7f2488212ad0>\n",
      "[['Bluish', 'ExcessSweat', 'Chills', 'Cough', 'Difficultybreathing', 'Sorethroat', 'Runnynose', 'Fatigue', 'Headaches', 'Diarrhea', 'Chestpain', 'MuscleAches', 'LossAppetite', 'Vomiting', 'RedRash', 'AbdominalPain', 'JointPain', 'Shortnessofbreath', 'LossTaste', 'Confusion', 'Fever', 'Wheezing', 'Shivering', 'LossBalance', 'LossSmell', 'SlurredSpeech', 'Pinkeye', 'UnexplainedRash', 'Numbness']]\n",
      "{'ordering': [['Bluish', 'ExcessSweat', 'Chills', 'Cough', 'Difficultybreathing', 'Sorethroat', 'Runnynose', 'Fatigue', 'Headaches', 'Diarrhea', 'Chestpain', 'MuscleAches', 'LossAppetite', 'Vomiting', 'RedRash', 'AbdominalPain', 'JointPain', 'Shortnessofbreath', 'LossTaste', 'Confusion', 'Fever', 'Wheezing', 'Shivering', 'LossBalance', 'LossSmell', 'SlurredSpeech', 'Pinkeye', 'UnexplainedRash', 'Numbness']]}\n",
      "{'ordering': [['Bluish', 'ExcessSweat', 'Chills', 'Cough', 'Difficultybreathing', 'Sorethroat', 'Runnynose', 'Fatigue', 'Headaches', 'Diarrhea', 'Chestpain', 'MuscleAches', 'LossAppetite', 'Vomiting', 'RedRash', 'AbdominalPain', 'JointPain', 'Shortnessofbreath', 'LossTaste', 'Confusion', 'Fever', 'Wheezing', 'Shivering', 'LossBalance', 'LossSmell', 'SlurredSpeech', 'Pinkeye', 'UnexplainedRash', 'Numbness']]}\n"
     ]
    }
   ],
   "source": [
    "myList = data['ordering']\n",
    "finalList = reversed(myList)\n",
    "print(finalList)\n",
    "reversedList = list(finalList)\n",
    "print(reversedList)\n",
    "\n",
    "newData = {}\n",
    "newData['ordering'] = reversedList\n",
    "print(data)\n",
    "print(newData)\n"
   ]
  },
  {
   "cell_type": "code",
   "execution_count": null,
   "metadata": {
    "id": "FQAXVxioxO95"
   },
   "outputs": [],
   "source": [
    "with open(\"rank_high_to_low.json\", \"w\") as outfile:\n",
    "    json.dump(newData, outfile)"
   ]
  }
 ],
 "metadata": {
  "colab": {
   "provenance": []
  },
  "kernelspec": {
   "display_name": "Python 3",
   "language": "python",
   "name": "python3"
  },
  "language_info": {
   "codemirror_mode": {
    "name": "ipython",
    "version": 3
   },
   "file_extension": ".py",
   "mimetype": "text/x-python",
   "name": "python",
   "nbconvert_exporter": "python",
   "pygments_lexer": "ipython3",
   "version": "3.8.5"
  }
 },
 "nbformat": 4,
 "nbformat_minor": 1
}
