{
 "cells": [
  {
   "cell_type": "code",
   "execution_count": null,
   "metadata": {
    "id": "ejdUWlU158hj"
   },
   "outputs": [],
   "source": [
    "import pandas as pd\n",
    "from sklearn.linear_model import LinearRegression,LogisticRegressionCV\n",
    "from sklearn.model_selection import cross_val_score\n",
    "import numpy as np"
   ]
  },
  {
   "cell_type": "code",
   "execution_count": null,
   "metadata": {
    "colab": {
     "base_uri": "https://localhost:8080/"
    },
    "id": "XAfj2gMm3HQz",
    "outputId": "6cf3e1fd-cea4-4d0a-9f9c-aa4043a3754e"
   },
   "outputs": [
    {
     "name": "stdout",
     "output_type": "stream",
     "text": [
      "(461, 66)\n",
      "Index(['TestPositive', 'IgnoreRespSymp', 'IgnoreGastroSymp', 'IgnoreNeuroSymp',\n",
      "       'IgnoreInflamSymp', 'LossSmell', 'Fatigue', 'Difficultybreathing',\n",
      "       'SlurredSpeech', 'Diarrhea', 'LossAppetite', 'Bluish', 'MuscleAches',\n",
      "       'Confusion', 'Pinkeye', 'UnexplainedRash', 'Shortnessofbreath',\n",
      "       'JointPain', 'Sorethroat', 'Shivering', 'AbdominalPain', 'ExcessSweat',\n",
      "       'LossBalance', 'RedRash', 'Numbness', 'Headaches', 'Cough', 'Chills',\n",
      "       'LossTaste', 'Wheezing', 'Fever', 'Vomiting', 'Runnynose', 'Chestpain',\n",
      "       'RaceWhite', 'GenderFemale', 'Age30orMore', 'LossSmell_first',\n",
      "       'Fatigue_first', 'Difficultybreathing_first', 'SlurredSpeech_first',\n",
      "       'Diarrhea_first', 'LossAppetite_first', 'Bluish_first',\n",
      "       'MuscleAches_first', 'Confusion_first', 'Pinkeye_first',\n",
      "       'UnexplainedRash_first', 'Shortnessofbreath_first', 'JointPain_first',\n",
      "       'Sorethroat_first', 'Shivering_first', 'AbdominalPain_first',\n",
      "       'ExcessSweat_first', 'LossBalance_first', 'RedRash_first',\n",
      "       'Numbness_first', 'Headaches_first', 'Cough_first', 'Chills_first',\n",
      "       'LossTaste_first', 'Wheezing_first', 'Fever_first', 'Vomiting_first',\n",
      "       'Runnynose_first', 'Chestpain_first'],\n",
      "      dtype='object')\n"
     ]
    }
   ],
   "source": [
    "df = pd.read_csv('data.csv')\n",
    "print(df.shape)\n",
    "print(df.columns)"
   ]
  },
  {
   "cell_type": "code",
   "execution_count": null,
   "metadata": {
    "colab": {
     "base_uri": "https://localhost:8080/"
    },
    "id": "BppQTSWI4zOJ",
    "outputId": "200eab1f-242e-4949-ce98-a24e5302cacd"
   },
   "outputs": [
    {
     "data": {
      "text/plain": [
       "31"
      ]
     },
     "execution_count": 3,
     "metadata": {},
     "output_type": "execute_result"
    }
   ],
   "source": [
    "# x_var_list = [\"Age30orMore\",'Chestpain','Chills','Fatigue','Fever', 'Headaches', 'Cough', 'LossAppetite','LossSmell','LossTaste', 'Wheezing']\n",
    "x_var_list1 = [\"Age30orMore\",\"GenderFemale\",\"Bluish\",\"ExcessSweat\",\"MuscleAches\", \"Chestpain\", \"Diarrhea\", \"Headaches\", \"Fatigue\", \"Runnynose\", \"Sorethroat\", \"Difficultybreathing\", \"Cough\", \"Chills\",\"Fever\", \"Confusion\", \"LossTaste\", \"Shortnessofbreath\", \"JointPain\", \"AbdominalPain\", \"RedRash\", \"Vomiting\", \"LossAppetite\",\"LossBalance\", \"Shivering\", \"Wheezing\", \"LossSmell\", \"Numbness\", \"UnexplainedRash\", \"Pinkeye\", \"SlurredSpeech\" ]\n",
    "# x_var_list = ['LossBalance','Shivering','Wheezing','LossSmell','Numbness','UnexplainedRash','Pinkeye','SlurredSpeech','Fever','Confusion','LossTaste','Shortnessofbreath','JointPain','AbdominalPain','RedRash','Vomiting','Chestpain','Diarrhea','Headaches','Fatigue','Runnynose','Sorethroat','Difficultybreathing','Cough','Chills','Bluish','ExcessSweat','Age30orMore','GenderFemale']\n",
    "# x_var_list = [\"Numbness\", \"UnexplainedRash\", \"Pinkeye\", \"SlurredSpeech\", \"LossSmell\", \"LossBalance\", \"Shivering\", \"Wheezing\", \"Fever\", \"Confusion\", \"LossTaste\", \"Shortnessofbreath\", \"JointPain\", \"AbdominalPain\", \"RedRash\", \"Vomiting\", \"LossAppetite\", \"MuscleAches\", \"Chestpain\", \"Diarrhea\", \"Headaches\", \"Fatigue\", \"Runnynose\", \"Sorethroat\", \"Difficultybreathing\", \"Cough\", \"Chills\", \"ExcessSweat\", \"Bluish\", \"GenderFemale\", \"Age30orMore\"]\n",
    "x_var_list = [\"Bluish\",\"ExcessSweat\", \"Chills\", \"Cough\", \"Difficultybreathing\", \"Sorethroat\", \"Runnynose\", \"Fatigue\", \"Headaches\", \"Diarrhea\", \"Chestpain\", \"MuscleAches\", \"LossAppetite\", \"Vomiting\", \"RedRash\", \"AbdominalPain\", \"JointPain\", \"Shortnessofbreath\", \"LossTaste\", \"Confusion\", \"Fever\", \"Wheezing\", \"Shivering\", \"LossBalance\", \"LossSmell\", \"SlurredSpeech\", \"Pinkeye\", \"UnexplainedRash\", \"Numbness\", \"GenderFemale\", \"Age30orMore\"]\n",
    "y_var = \"TestPositive\"\n",
    "len(x_var_list)\n",
    "# print(list(set(x_var_list1) - set(x_var_list2)))"
   ]
  },
  {
   "cell_type": "code",
   "execution_count": null,
   "metadata": {
    "id": "vlE6HKA3xoj7"
   },
   "outputs": [],
   "source": [
    "def full_log_likelihood(w, X, y):\n",
    "    score = np.dot(X, w).reshape(1, X.shape[0])\n",
    "    y = y.to_numpy()\n",
    "    return np.sum(-np.log(1 + np.exp(score))) + np.sum(y * score)\n",
    "\n",
    "def null_log_likelihood(w, X, y):\n",
    "    z = np.array([w if i == 0 else 0.0 for i, w in enumerate(w.reshape(1, X.shape[1])[0])]).reshape(X.shape[1], 1)\n",
    "    score = np.dot(X, z).reshape(1, X.shape[0])\n",
    "    y = y.to_numpy()\n",
    "    return np.sum(-np.log(1 + np.exp(score))) + np.sum(y * score)\n",
    "\n",
    "def mcfadden_rsquare(w, X, y):\n",
    "    return 1.0 - (full_log_likelihood(w, X, y) / null_log_likelihood(w, X, y))\n",
    "\n",
    "def mcfadden_adjusted_rsquare(w, X, y):\n",
    "    k = float(X.shape[1])\n",
    "    return 1.0 - ((full_log_likelihood(w, X, y) - k) / null_log_likelihood(w, X, y))"
   ]
  },
  {
   "cell_type": "code",
   "execution_count": null,
   "metadata": {
    "colab": {
     "base_uri": "https://localhost:8080/"
    },
    "id": "ZNWonXHQ4nyl",
    "outputId": "4b23904d-99a1-4f3b-b016-453cd1f389fb"
   },
   "outputs": [
    {
     "data": {
      "text/plain": [
       "LogisticRegressionCV(cv=10, fit_intercept=False)"
      ]
     },
     "execution_count": 5,
     "metadata": {},
     "output_type": "execute_result"
    }
   ],
   "source": [
    "X = df[x_var_list]\n",
    "y = df[y_var]\n",
    "\n",
    "model = LogisticRegressionCV(fit_intercept=False, solver='lbfgs',cv=10)\n",
    "model.fit(X, y)\n"
   ]
  },
  {
   "cell_type": "code",
   "execution_count": null,
   "metadata": {
    "colab": {
     "base_uri": "https://localhost:8080/"
    },
    "id": "EUkXkQhd6p-g",
    "outputId": "cd7dbe6a-d361-496d-a4a5-0ab784415adf"
   },
   "outputs": [
    {
     "name": "stdout",
     "output_type": "stream",
     "text": [
      "[[ 1.27824043e-02]\n",
      " [ 1.08787889e-01]\n",
      " [ 2.48222129e-01]\n",
      " [ 3.75018222e-02]\n",
      " [ 2.38567681e-01]\n",
      " [ 1.61016322e-02]\n",
      " [-3.18513799e-01]\n",
      " [-1.60365717e-01]\n",
      " [ 3.28215464e-01]\n",
      " [ 5.70814250e-02]\n",
      " [ 3.21698067e-01]\n",
      " [ 1.31203853e-02]\n",
      " [ 2.14216992e-01]\n",
      " [ 2.16203950e-01]\n",
      " [-1.18854572e-01]\n",
      " [-1.23635337e-01]\n",
      " [ 3.13377374e-01]\n",
      " [ 8.66001699e-02]\n",
      " [ 2.01197542e-01]\n",
      " [-1.20133554e-01]\n",
      " [-3.05893572e-01]\n",
      " [ 1.17338091e-01]\n",
      " [ 1.12542262e-01]\n",
      " [-6.58182465e-02]\n",
      " [ 2.13018913e-01]\n",
      " [-6.08438710e-04]\n",
      " [ 1.45320532e-01]\n",
      " [ 2.80699631e-03]\n",
      " [-1.41130413e-01]\n",
      " [-4.34700349e-01]\n",
      " [-8.08493231e-01]]\n"
     ]
    }
   ],
   "source": [
    "w = np.array(model.coef_).transpose()\n",
    "print(w)"
   ]
  },
  {
   "cell_type": "code",
   "execution_count": null,
   "metadata": {
    "id": "DLKscaIM61Yh"
   },
   "outputs": [],
   "source": [
    "r2_score = mcfadden_rsquare(w, X, y)"
   ]
  },
  {
   "cell_type": "code",
   "execution_count": null,
   "metadata": {
    "colab": {
     "base_uri": "https://localhost:8080/"
    },
    "id": "VpRSXL9c8Abe",
    "outputId": "8cce9f00-f98c-410c-ce14-2b95f7fc18cc"
   },
   "outputs": [
    {
     "name": "stdout",
     "output_type": "stream",
     "text": [
      "0.2649511097263745\n"
     ]
    }
   ],
   "source": [
    "print(r2_score)"
   ]
  },
  {
   "cell_type": "code",
   "execution_count": null,
   "metadata": {
    "id": "WNMb8L9s8SX3"
   },
   "outputs": [],
   "source": [
    "n1 = full_log_likelihood(w,X,y)\n",
    "n2 = null_log_likelihood(w,X,y)"
   ]
  },
  {
   "cell_type": "code",
   "execution_count": null,
   "metadata": {
    "colab": {
     "base_uri": "https://localhost:8080/"
    },
    "id": "QielRiIg8X-S",
    "outputId": "375bcd8b-fe0d-4bd5-d634-6db6c7da2949"
   },
   "outputs": [
    {
     "name": "stdout",
     "output_type": "stream",
     "text": [
      "-234.87820741399022 -319.54093193250816\n"
     ]
    }
   ],
   "source": [
    "print(n1,n2)"
   ]
  },
  {
   "cell_type": "code",
   "execution_count": null,
   "metadata": {
    "id": "8CoArF4_8jIq"
   },
   "outputs": [],
   "source": [
    "scores = cross_val_score(model,X,y,cv = 10)"
   ]
  },
  {
   "cell_type": "code",
   "execution_count": null,
   "metadata": {
    "colab": {
     "base_uri": "https://localhost:8080/"
    },
    "id": "xC4cEHC8HvFe",
    "outputId": "819def14-cfa5-485c-e60b-f6ab7565b133"
   },
   "outputs": [
    {
     "name": "stdout",
     "output_type": "stream",
     "text": [
      "[0.68085106 0.65217391 0.76086957 0.84782609 0.7173913  0.76086957\n",
      " 0.82608696 0.86956522 0.73913043 0.7173913 ]\n"
     ]
    }
   ],
   "source": [
    "print(scores)"
   ]
  },
  {
   "cell_type": "code",
   "execution_count": null,
   "metadata": {
    "colab": {
     "base_uri": "https://localhost:8080/"
    },
    "id": "La15TRP5I8wm",
    "outputId": "c3dde35b-f0f3-4733-8b38-076c8b4fc383"
   },
   "outputs": [
    {
     "name": "stdout",
     "output_type": "stream",
     "text": [
      "0.7572155411655873\n"
     ]
    }
   ],
   "source": [
    "avg_score = np.mean(scores)\n",
    "print(avg_score)"
   ]
  },
  {
   "cell_type": "code",
   "execution_count": null,
   "metadata": {
    "id": "JhzfazmoIqPe"
   },
   "outputs": [],
   "source": [
    "import matplotlib.pyplot as plt\n",
    "\n",
    "from sklearn.metrics import auc\n",
    "from sklearn.metrics import RocCurveDisplay\n",
    "from sklearn import metrics"
   ]
  },
  {
   "cell_type": "code",
   "execution_count": null,
   "metadata": {
    "id": "Pq_KFvzlIsN9"
   },
   "outputs": [],
   "source": [
    "y_pred_proba = model.predict(X)\n",
    "fpr, tpr, _ = metrics.roc_curve(y,  y_pred_proba)\n"
   ]
  },
  {
   "cell_type": "code",
   "execution_count": null,
   "metadata": {
    "id": "a0HBiGTXKdqZ"
   },
   "outputs": [],
   "source": [
    "roc_auc = metrics.auc(fpr, tpr)\n",
    "display = metrics.RocCurveDisplay(fpr=fpr, tpr=tpr, roc_auc=roc_auc,estimator_name='estimator')"
   ]
  },
  {
   "cell_type": "code",
   "execution_count": null,
   "metadata": {
    "colab": {
     "base_uri": "https://localhost:8080/",
     "height": 296
    },
    "id": "b146wqkLKueq",
    "outputId": "50c0a976-4b92-4bda-cdf8-b050500b6456"
   },
   "outputs": [
    {
     "data": {
      "text/plain": [
       "<sklearn.metrics._plot.roc_curve.RocCurveDisplay at 0x7f617c9124d0>"
      ]
     },
     "execution_count": 17,
     "metadata": {},
     "output_type": "execute_result"
    },
    {
     "data": {
      "image/png": "[encoded data removed]",
      "text/plain": [
       "<Figure size 432x288 with 1 Axes>"
      ]
     },
     "metadata": {
      "needs_background": "light"
     },
     "output_type": "display_data"
    }
   ],
   "source": [
    "display.plot()"
   ]
  },
  {
   "cell_type": "code",
   "execution_count": null,
   "metadata": {
    "colab": {
     "base_uri": "https://localhost:8080/"
    },
    "id": "NynVj9GbNK4M",
    "outputId": "427ac858-7311-4896-d1f6-3e17ff4a9660"
   },
   "outputs": [
    {
     "name": "stderr",
     "output_type": "stream",
     "text": [
      "/usr/local/lib/python3.7/dist-packages/sklearn/base.py:451: UserWarning: X does not have valid feature names, but LogisticRegressionCV was fitted with feature names\n",
      "  \"X does not have valid feature names, but\"\n"
     ]
    }
   ],
   "source": [
    "from sklearn.metrics import roc_auc_score\n",
    "from sklearn.linear_model import LogisticRegression\n",
    "\n",
    "X_1 = df[x_var_list].to_numpy()\n",
    "y_1 = df[y_var].to_numpy()\n",
    "\n",
    "model_1 = LogisticRegression(solver=\"liblinear\", random_state=0)\n",
    "model_1.fit(X_1,y_1)\n",
    "\n",
    "area_under_roc = roc_auc_score(y_1, model.decision_function(X_1))"
   ]
  },
  {
   "cell_type": "code",
   "execution_count": null,
   "metadata": {
    "colab": {
     "base_uri": "https://localhost:8080/"
    },
    "id": "SwntIialNqiL",
    "outputId": "4576a01c-a0fb-471a-8370-a56b76953edc"
   },
   "outputs": [
    {
     "name": "stdout",
     "output_type": "stream",
     "text": [
      "0.7564885496183205\n"
     ]
    }
   ],
   "source": [
    "print(area_under_roc)"
   ]
  }
 ],
 "metadata": {
  "colab": {
   "collapsed_sections": [],
   "provenance": []
  },
  "kernelspec": {
   "display_name": "Python 3",
   "language": "python",
   "name": "python3"
  },
  "language_info": {
   "codemirror_mode": {
    "name": "ipython",
    "version": 3
   },
   "file_extension": ".py",
   "mimetype": "text/x-python",
   "name": "python",
   "nbconvert_exporter": "python",
   "pygments_lexer": "ipython3",
   "version": "3.8.5"
  }
 },
 "nbformat": 4,
 "nbformat_minor": 1
}
