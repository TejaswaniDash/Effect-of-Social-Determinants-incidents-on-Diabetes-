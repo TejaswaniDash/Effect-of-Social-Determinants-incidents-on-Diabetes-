{
 "cells": [
  {
   "cell_type": "code",
   "execution_count": 1,
   "metadata": {
    "id": "6t3PM4zWBZ4r"
   },
   "outputs": [],
   "source": [
    "import pandas as pd"
   ]
  },
  {
   "cell_type": "code",
   "execution_count": 2,
   "metadata": {
    "id": "sTQfQGFhByYB"
   },
   "outputs": [],
   "source": [
    "Data = pd.read_csv('data.csv')"
   ]
  },
  {
   "cell_type": "code",
   "execution_count": 3,
   "metadata": {
    "colab": {
     "base_uri": "https://localhost:8080/"
    },
    "id": "zAGZJJkRB2v8",
    "outputId": "9d1036c4-22b7-4c06-d396-acde02292733"
   },
   "outputs": [
    {
     "data": {
      "text/plain": [
       "Index(['TestPositive', 'IgnoreRespSymp', 'IgnoreGastroSymp', 'IgnoreNeuroSymp',\n",
       "       'IgnoreInflamSymp', 'LossSmell', 'Fatigue', 'Difficultybreathing',\n",
       "       'SlurredSpeech', 'Diarrhea', 'LossAppetite', 'Bluish', 'MuscleAches',\n",
       "       'Confusion', 'Pinkeye', 'UnexplainedRash', 'Shortnessofbreath',\n",
       "       'JointPain', 'Sorethroat', 'Shivering', 'AbdominalPain', 'ExcessSweat',\n",
       "       'LossBalance', 'RedRash', 'Numbness', 'Headaches', 'Cough', 'Chills',\n",
       "       'LossTaste', 'Wheezing', 'Fever', 'Vomiting', 'Runnynose', 'Chestpain',\n",
       "       'RaceWhite', 'GenderFemale', 'Age30orMore', 'LossSmell_first',\n",
       "       'Fatigue_first', 'Difficultybreathing_first', 'SlurredSpeech_first',\n",
       "       'Diarrhea_first', 'LossAppetite_first', 'Bluish_first',\n",
       "       'MuscleAches_first', 'Confusion_first', 'Pinkeye_first',\n",
       "       'UnexplainedRash_first', 'Shortnessofbreath_first', 'JointPain_first',\n",
       "       'Sorethroat_first', 'Shivering_first', 'AbdominalPain_first',\n",
       "       'ExcessSweat_first', 'LossBalance_first', 'RedRash_first',\n",
       "       'Numbness_first', 'Headaches_first', 'Cough_first', 'Chills_first',\n",
       "       'LossTaste_first', 'Wheezing_first', 'Fever_first', 'Vomiting_first',\n",
       "       'Runnynose_first', 'Chestpain_first'],\n",
       "      dtype='object')"
      ]
     },
     "execution_count": 3,
     "metadata": {},
     "output_type": "execute_result"
    }
   ],
   "source": [
    "Data.columns"
   ]
  },
  {
   "cell_type": "code",
   "execution_count": 4,
   "metadata": {
    "id": "vMtT5xf4B5pJ"
   },
   "outputs": [],
   "source": [
    "new_data_1 = new_data = pd.read_csv(\"symptoms.csv\")\n",
    "my_list = list(new_data_1['Symptoms'])"
   ]
  },
  {
   "cell_type": "code",
   "execution_count": 5,
   "metadata": {
    "colab": {
     "base_uri": "https://localhost:8080/"
    },
    "id": "SITP-XfXZ1o8",
    "outputId": "4828dfd4-780d-4b55-d68c-586b633d3844"
   },
   "outputs": [
    {
     "data": {
      "text/plain": [
       "0      False\n",
       "1      False\n",
       "2      False\n",
       "3      False\n",
       "4      False\n",
       "       ...  \n",
       "456    False\n",
       "457    False\n",
       "458    False\n",
       "459    False\n",
       "460    False\n",
       "Name: Fever_first, Length: 461, dtype: bool"
      ]
     },
     "execution_count": 5,
     "metadata": {},
     "output_type": "execute_result"
    }
   ],
   "source": [
    "(Data['Fever_first'] == 1)"
   ]
  },
  {
   "cell_type": "code",
   "execution_count": null,
   "metadata": {
    "id": "PvbQW3IWCC_e"
   },
   "outputs": [],
   "source": [
    "common_data = pd.DataFrame(columns=my_list,index=my_list)\n",
    "\n",
    "def symptomCross(symptom1,symptom2):\n",
    "\n",
    "  common_data_func = Data[(Data[symptom1] == 1) & (Data[symptom2] == 1)]\n",
    "  my_shape = common_data_func.shape\n",
    "  return my_shape[0]\n",
    "\n",
    "symptomCross('RedRash','Fever')\n",
    "\n",
    "for items1 in my_list:\n",
    "  for items2 in my_list:\n",
    "    if items1 == items2:\n",
    "      common_data.at[items1,items2] = 'NaN'\n",
    "    else:\n",
    "      common_data.at[items1,items2] = symptomCross(items1,items2)\n",
    "\n",
    "common_data.to_csv('commonSymptoms.csv')"
   ]
  },
  {
   "cell_type": "code",
   "execution_count": null,
   "metadata": {
    "id": "zm-ZsCp7CNrH"
   },
   "outputs": [],
   "source": [
    "difference_data = pd.DataFrame(columns=my_list,index=my_list)\n",
    "\n",
    "def symptomCrossDifference(symptom1,symptom2):\n",
    "  symptom1_first = symptom1 + '_first'\n",
    "  symptom2_first = symptom2 + '_first'\n",
    "  \n",
    "  difference_data_func = Data[(Data[symptom1_first] == 1) & (Data[symptom2] == 1) & (Data[symptom2_first] == 0)]\n",
    "  my_shape = difference_data_func.shape\n",
    "  return my_shape[0]\n",
    "\n",
    "symptomCrossDifference('Fever','Fatigue')\n",
    "\n",
    "for items1 in my_list:\n",
    "  for items2 in my_list:\n",
    "    if(items1 == items2):\n",
    "      difference_data.at[items1,items2] = 'NaN'\n",
    "    else:\n",
    "      difference_data.at[items1,items2] = symptomCrossDifference(items1,items2)\n",
    "\n",
    "difference_data.to_csv('DifferenceSymptoms.csv')"
   ]
  },
  {
   "cell_type": "code",
   "execution_count": null,
   "metadata": {
    "id": "GSoDdD2uF5n0"
   },
   "outputs": [],
   "source": [
    "new_data = pd.read_csv(\"symptoms.csv\")\n",
    "my_new_list = list(new_data['Symptoms'])\n",
    "\n"
   ]
  },
  {
   "cell_type": "code",
   "execution_count": null,
   "metadata": {
    "colab": {
     "base_uri": "https://localhost:8080/"
    },
    "id": "k_m-6O_jGXn_",
    "outputId": "70829d6a-634c-4de0-bcd1-44f49d7d856b"
   },
   "outputs": [
    {
     "name": "stdout",
     "output_type": "stream",
     "text": [
      "0 (117)\n"
     ]
    }
   ],
   "source": [
    "combined_data = pd.DataFrame(columns=my_new_list,index=my_new_list)\n",
    "\n",
    "def combined_function(items1,items2):\n",
    "  return \"{diff} ({common})\".format(diff = symptomCrossDifference(items1,items2), common = symptomCross(items1,items2))\n",
    "\n",
    "res = combined_function('Fever','Fatigue')\n",
    "print(res)\n"
   ]
  },
  {
   "cell_type": "code",
   "execution_count": null,
   "metadata": {
    "id": "QKKNEpICJv7t"
   },
   "outputs": [],
   "source": [
    "for items1 in my_list:\n",
    "  for items2 in my_list:\n",
    "    if(items1 == items2):\n",
    "      combined_data.at[items1,items2] = 'NaN'\n",
    "    else:\n",
    "      combined_data.at[items1,items2] = combined_function(items1,items2)\n",
    "\n",
    "combined_data.to_csv('CombinedSymptoms.csv')"
   ]
  }
 ],
 "metadata": {
  "colab": {
   "collapsed_sections": [],
   "provenance": []
  },
  "kernelspec": {
   "display_name": "Python 3",
   "language": "python",
   "name": "python3"
  },
  "language_info": {
   "codemirror_mode": {
    "name": "ipython",
    "version": 3
   },
   "file_extension": ".py",
   "mimetype": "text/x-python",
   "name": "python",
   "nbconvert_exporter": "python",
   "pygments_lexer": "ipython3",
   "version": "3.8.5"
  }
 },
 "nbformat": 4,
 "nbformat_minor": 1
}
